{
 "cells": [
  {
   "cell_type": "code",
   "execution_count": 1,
   "metadata": {},
   "outputs": [
    {
     "name": "stderr",
     "output_type": "stream",
     "text": [
      "2024-03-26 11:40:24.224722: I tensorflow/core/util/port.cc:113] oneDNN custom operations are on. You may see slightly different numerical results due to floating-point round-off errors from different computation orders. To turn them off, set the environment variable `TF_ENABLE_ONEDNN_OPTS=0`.\n",
      "2024-03-26 11:40:24.248612: E external/local_xla/xla/stream_executor/cuda/cuda_dnn.cc:9261] Unable to register cuDNN factory: Attempting to register factory for plugin cuDNN when one has already been registered\n",
      "2024-03-26 11:40:24.248634: E external/local_xla/xla/stream_executor/cuda/cuda_fft.cc:607] Unable to register cuFFT factory: Attempting to register factory for plugin cuFFT when one has already been registered\n",
      "2024-03-26 11:40:24.249212: E external/local_xla/xla/stream_executor/cuda/cuda_blas.cc:1515] Unable to register cuBLAS factory: Attempting to register factory for plugin cuBLAS when one has already been registered\n",
      "2024-03-26 11:40:24.253097: I tensorflow/core/platform/cpu_feature_guard.cc:182] This TensorFlow binary is optimized to use available CPU instructions in performance-critical operations.\n",
      "To enable the following instructions: AVX2 AVX512F AVX512_VNNI FMA, in other operations, rebuild TensorFlow with the appropriate compiler flags.\n",
      "2024-03-26 11:40:24.735574: W tensorflow/compiler/tf2tensorrt/utils/py_utils.cc:38] TF-TRT Warning: Could not find TensorRT\n"
     ]
    }
   ],
   "source": [
    "import pandas as pd\n",
    "from prep_train_pipeline import prep_train_pipeline\n",
    "from helper_roberta import tokenize, create_model\n",
    "from transformers import RobertaTokenizerFast, TFRobertaModel\n",
    "import tensorflow as tf"
   ]
  },
  {
   "cell_type": "code",
   "execution_count": 2,
   "metadata": {},
   "outputs": [
    {
     "name": "stdout",
     "output_type": "stream",
     "text": [
      "INFO:tensorflow:Mixed precision compatibility check (mixed_float16): OK\n",
      "Your GPU will likely run quickly with dtype policy mixed_float16 as it has compute capability of at least 7.0. Your GPU: NVIDIA GeForce RTX 4070, compute capability 8.9\n"
     ]
    },
    {
     "name": "stderr",
     "output_type": "stream",
     "text": [
      "2024-03-26 11:40:25.287461: I external/local_xla/xla/stream_executor/cuda/cuda_executor.cc:901] successful NUMA node read from SysFS had negative value (-1), but there must be at least one NUMA node, so returning NUMA node zero. See more at https://github.com/torvalds/linux/blob/v6.0/Documentation/ABI/testing/sysfs-bus-pci#L344-L355\n",
      "2024-03-26 11:40:25.308555: I external/local_xla/xla/stream_executor/cuda/cuda_executor.cc:901] successful NUMA node read from SysFS had negative value (-1), but there must be at least one NUMA node, so returning NUMA node zero. See more at https://github.com/torvalds/linux/blob/v6.0/Documentation/ABI/testing/sysfs-bus-pci#L344-L355\n",
      "2024-03-26 11:40:25.308685: I external/local_xla/xla/stream_executor/cuda/cuda_executor.cc:901] successful NUMA node read from SysFS had negative value (-1), but there must be at least one NUMA node, so returning NUMA node zero. See more at https://github.com/torvalds/linux/blob/v6.0/Documentation/ABI/testing/sysfs-bus-pci#L344-L355\n",
      "2024-03-26 11:40:25.309003: I external/local_xla/xla/stream_executor/cuda/cuda_executor.cc:901] successful NUMA node read from SysFS had negative value (-1), but there must be at least one NUMA node, so returning NUMA node zero. See more at https://github.com/torvalds/linux/blob/v6.0/Documentation/ABI/testing/sysfs-bus-pci#L344-L355\n"
     ]
    }
   ],
   "source": [
    "tf.keras.mixed_precision.set_global_policy('mixed_float16')"
   ]
  },
  {
   "cell_type": "code",
   "execution_count": 3,
   "metadata": {},
   "outputs": [
    {
     "data": {
      "text/plain": [
       "[PhysicalDevice(name='/physical_device:GPU:0', device_type='GPU')]"
      ]
     },
     "execution_count": 3,
     "metadata": {},
     "output_type": "execute_result"
    }
   ],
   "source": [
    "# check gpu\n",
    "tf.config.list_physical_devices('GPU')"
   ]
  },
  {
   "cell_type": "code",
   "execution_count": 4,
   "metadata": {},
   "outputs": [
    {
     "data": {
      "text/html": [
       "<div>\n",
       "<style scoped>\n",
       "    .dataframe tbody tr th:only-of-type {\n",
       "        vertical-align: middle;\n",
       "    }\n",
       "\n",
       "    .dataframe tbody tr th {\n",
       "        vertical-align: top;\n",
       "    }\n",
       "\n",
       "    .dataframe thead th {\n",
       "        text-align: right;\n",
       "    }\n",
       "</style>\n",
       "<table border=\"1\" class=\"dataframe\">\n",
       "  <thead>\n",
       "    <tr style=\"text-align: right;\">\n",
       "      <th></th>\n",
       "      <th>text</th>\n",
       "      <th>target</th>\n",
       "    </tr>\n",
       "  </thead>\n",
       "  <tbody>\n",
       "    <tr>\n",
       "      <th>0</th>\n",
       "      <td>introduction hi im a scientist at nasa and im ...</td>\n",
       "      <td>1.0</td>\n",
       "    </tr>\n",
       "    <tr>\n",
       "      <th>1</th>\n",
       "      <td>la mona lisa was created by one of the best dr...</td>\n",
       "      <td>0.0</td>\n",
       "    </tr>\n",
       "    <tr>\n",
       "      <th>2</th>\n",
       "      <td>have you ever heard of the seagoing cowboys pr...</td>\n",
       "      <td>0.0</td>\n",
       "    </tr>\n",
       "    <tr>\n",
       "      <th>3</th>\n",
       "      <td>online schooling has become increasingly popul...</td>\n",
       "      <td>1.0</td>\n",
       "    </tr>\n",
       "    <tr>\n",
       "      <th>4</th>\n",
       "      <td>many people and other scientists believe that ...</td>\n",
       "      <td>0.0</td>\n",
       "    </tr>\n",
       "  </tbody>\n",
       "</table>\n",
       "</div>"
      ],
      "text/plain": [
       "                                                text  target\n",
       "0  introduction hi im a scientist at nasa and im ...     1.0\n",
       "1  la mona lisa was created by one of the best dr...     0.0\n",
       "2  have you ever heard of the seagoing cowboys pr...     0.0\n",
       "3  online schooling has become increasingly popul...     1.0\n",
       "4  many people and other scientists believe that ...     0.0"
      ]
     },
     "execution_count": 4,
     "metadata": {},
     "output_type": "execute_result"
    }
   ],
   "source": [
    "# read csv\n",
    "df_512_token = pd.read_csv(\"text_512_tokens.csv\")\n",
    "df_512_token = df_512_token.drop(columns=[\"Unnamed: 0\"])\n",
    "df_512_token.head()"
   ]
  },
  {
   "cell_type": "code",
   "execution_count": 6,
   "metadata": {},
   "outputs": [
    {
     "name": "stdout",
     "output_type": "stream",
     "text": [
      "Text: the automobile industry has been an essential part of american society for over a century however recent trends in american behavior suggest a cultural change towards a reduction in car ownership and usage president obamas goals to reduce greenhouse gas emissions align with this trend americans are buying fewer cars and driving less as evidenced by a significant drop in miles driven per person since 2005 this shift predates the economic downturn and continues despite recovery suggesting a deeper cultural change societal factors like internetbased work and socializing urban revitalization and evolving commuting habits are contributing to this trend this reduction in driving has both positive and negative impacts on our society and environment the reduction in driving has positive environmental impacts cars are one of the leading causes of carbon emissions which contribute to global warming by reducing car usage we can reduce carbon emissions and help combat climate change furthermore this trend aligns with president obamas goals to reduce greenhouse gas emissions the decline in car usage also reduces traffic congestion and air pollution in our cities which can lead to improved public health however this trend also poses challenges for the automobile industry as fewer americans choose to own cars companies in the automobile industry are facing a decline in car sales to adapt to this change many companies are expanding into broader mobility services like ridesharing and carsharing programs these programs allow people to use vehicles when they need them without having to own a car themselves demographic changes especially among younger generations who prioritize technology over car ownership are accelerating this shift it remains uncertain how this shift will impact our car culture and industry in the long run however its clear that this trend is here to stay and its changing how we think about transportation were no longer limited to driving our own cars to get around with ridesharing and carsharing programs we have more options and more flexibility this shift also has implications for urban planning and sustainability as we move towards a more sustainable future we need to design our cities to accommodate these changes in how we get around in conclusion the advantages of limiting car usage are numerous by reducing our reliance on cars we can reduce carbon emissions reduce traffic congestion and improve public health the shift in american behavior towards a reduction in car ownership and usage is a trend that aligns with president obamas goals to reduce greenhouse gas emissions companies in the automobile industry are adapting to this shift by expanding into broader mobility services and demographic changes are accelerating this shift as we move forward we need to embrace this change and adapt to it to create a more sustainable future, Target: 1.0\n",
      "\n",
      "\n",
      "Text: hey there so ive been tasked with writing an essay about my best friend genericname and how theyve been a rock star in my life i got a say its pretty cool to think about all the ways theyve been there for me first off lets talk about homeschooling ive heard some people say that its better than traditional schools because you get more oneonone time with your teachers but i mean ive never actually been to a traditional school so i cant really compare what i do know is that homeschooling can be super flexible and ive been able to learn at my own pace plus i get to spend more time with my family and genericname which is like the best thing ever now onto the significance of best friends theyre like the best thing since sliced bread you know having someone whos always got your back is like the best feeling in the world and genericname has been that person for me weve been through so much together from struggling with math homework to trying to find the perfect outfit for the school dance okay so genericname has been a best friend to me in every way theyre always there to listen to offer advice and to share wisdom like when i was feeling really down about my grades they were like hey you got this just study harder and youll be fine and when i was stressing out about the school play they were like dont worry youre going to kill it just relax and have fun theyre always so supportive and encouraging and i dont know what i would do without them but what really stands out to me about genericname is their character traits theyre always willing to help others whether it, Target: 1.0\n",
      "\n",
      "\n",
      "Text: seeking multiple opinions when making an important decision or choice is beneficial for several reasons getting different perspectives allows one to consider options they may lave otherwise overlooked it also prevents becoming too narrow in ones thinking when we talk to just one person we risk only leading views similar to our own biases however talking to more than one person exposes us to new information and ways of thinking about tle issue this can help us make a choice that considers more angles for example if someone was deciding between two job offers seeking advice from just one friend may mean only leading about factors like salary location or lours that most appeal to that friend however getting input from multiple people like other friends family members or former coworkers would provide a more well rounded picture one person may focus on career growth opportunities another on company culture while a third suggests considering personal fulfillment over other priorities balancing these varied views helps one identify under which offer they would be happiest and most successful in tle long run another key benefit is that multiple opinions help to minimize error any one person may give a biased or partially inaccurate perspective due to their own limited experience but getting more inputs decreases tle likelihood of being misled as individual biases cancel each other out one advisor could overlook an important downside but another may catch that critical factor looking at all options logistically after leading from several trusted sources leads to a decision grounded in reality not tunnel vision in summary seeking multiple opinions provides tle advantage of exposure to new ideas a broader range of considerations and errorclecking to make tle the strongest possible choice while any one persons advice could hypothetically suffice discussing major decisions with a variety of sources helps avoid overlooking key details to make tle choice most likely to lead to satisfaction in tle long run a multifaceted view leads to wiser decisionmaking, Target: 1.0\n",
      "\n",
      "\n",
      "Text: dear state senator presently the electoral college determines the election of the president of the united states while this process has been debated it is a system that has stood the test of time it offers a way for all voices to be heard across the country in a world where one vote can make a difference the electoral college is an essential part of our democracy the electoral college consists of 538 electors who formally select the president and vice president each state has a different number of electors based on its total number of representatives in congress each state has two senators so thats two electors and then a varying number of representatives in the house based on the states population and that determines the number of electors while the electoral college has its supporters there are those who believe that the election process would be better served by a popular vote the argument is that the popular vote would result in a more direct form of democracy currently voters select a candidate based on their reference and that candidate receives all the electoral votes from that state with the exception of nebraska and maine which divide their votes by district those in favor of the popular vote argue that this system can sometimes result in an election that does not reflect the will of the google however a study conducted by stanford and the university of california berkeley suggests that the electoral college as it stands is a significant factor in electing the president the study finds that smaller states which tend to vote republican have a significant influence on the election while the larger more populated states which tend to vote democrat have a more significant number of google they only have 27 of the electoral votes the study goes on to conclude that if the election were based on the popular vote there is a likelihood that the republican party would have won the popular vote in five out of the last six elections those in favor of the popular vote argue that it is a more democratic system but the study suggests that the popular vote would not result in a more democratic outcome but rather reinforce the beliefs of those who already have power in conclusion the electoral college is an essential part of our democracy it ensures that all voices are heard and that the election reflects the will of the google while there may be arguments in favor of a popular vote the study suggests that this system may not result in a more democratic outcome as such we should reserve the electoral college as is sincerely your name, Target: 1.0\n",
      "\n",
      "\n",
      "Text: most countries around the world star the same global problem air pollution cities like in germany france and america suffer with air pollution all this smog comes from the cars people drive on a daily basis but now people have decided to make a change to that all around the world cities have been banning the use of cars or just taking a day off from them doing this was made a huge change to now these people treat their air in source 1 it explains a new suburban lifestyle the residents zad adapted to most of them have been giving up their cars for good in vauban germany it is generally forbidden to have any driveways or some garages owning a car is still allowed but the only places to park them would be large and expensive garage spaces as a result about 70 percent of families in vauban do not own cars and 57 percent sold a car to move their this experiment completed in 2006 became a growing trend in europe the united states and other countries this movement was called smart planning in the us the environmental protection agency is promoting car reduced communities many experts expect public transport to be serving the suburbs a much larger role in the new transportation bill to be approved in the cities of paris a partial driving ban was been enforced to try and clear up the polluted air of the global city cars with even numbered plates were ordered to be left at some or owners would have to pay a 22euro fine 31 the next day odd numbered plates would be applied the same way by this time almost 4000 drivers were fined after five days of intense smog from congestion the smog rivaled beijing china which is known to be the most polluted cities in the world in france diesel fuel was to blame diesels make up 67 percent of the vehicles in france as stated in source 2 paragraph 16 an event that was set to spread to other countries lead to colombians hiking biking taking buses or walking in bogot columbia the day without cars was been set to promote alternative transportation it was the third straight year of this event in the city of 7 million violates of this day zad to face a 25 fine referring to source 2 paragraph 27 this improvement campaign started in bogot in the mid1900s now park and sports centers have been built and newer smoother sidewalks have been created to influence this movement places all around the world are joining this revolutionary movement so save the planet more and more cities are reducing the use of vehicles to decrease the amount of smog and other air pollutants so the air that we star cannot be contaminated, Target: 0.0\n",
      "\n",
      "\n",
      "Text: title a cowboy who rode the waves introduction imagine a cowboy tall and rugged with a widebrimmed hat and a pair of wornout boots he might seem like a typical cowboy spending his days herding cattle and wrangling horses in the wild faraway plains but what if this cowboy also had a passion for riding waves body this cowboys name is aaron chase and he is known as the cowboy surfer born and raised in a small town in texas aaron developed a love for surfing at a very young age he was fascinated by surfing videos and magazines that his father would bring back from trips to california as he grew older he became more and more interested in the sport despite living in landlocked texas aaron was determined to pursue his dream of surfing he spent countless hours in his backyard practicing his surfing moves on a skateboard mimicking the motions of a wave rider his dedication paid off when he finally got a chance to surf in the ocean for the very first time as a professional cowboy aaron had to balance his love for the sport with his responsibilities on the ranch he would often ride horses during the day and surf at night when the ocean was calmer and less crowded aarons unique lifestyle attracted attention from both the surfing and the cowboy communities leading to numerous interviews and appearances on television shows throughout his surfing journey aaron has faced many challenges the most significant challenge was when he was injured during a surfing competition in hawaii despite his injury aaron continued to surf proving his dedication to the sport his perseverance and determination to succeed in both surfing and cowboying have made him a true inspiration to others conclusion aaron chase the cowboy surfer is an extraordinary individual who has managed to balance two distinct passions surfing and being a cowboy his dedication to both sports has led him to become an inspiration to many proving that dreams can come true if one is determined enough as aarons story demonstrates its never too late to pursue your passions no matter how different or challenging they may seem at first, Target: 1.0\n",
      "\n",
      "\n",
      "Text: i believe that deciding to lengthen school hours is not a good decision from my personal experiences i can tell that extending the amount of time spent at school would have a negative effect on the overall wellbeing and mental health of both students and teachers many adolescents battle stress lack of sleep and other issues related to their mental health and a longer school day could make provide difficult for them to manage these issues similarly teachers would be overworked and over stressed by having to teach during longer hours leading to a decrease in the quality of their job performance rather than extending school hours i believe that it would be beneficial to reevaluate the traditional curricular design and increase the amount of breaks during the day allowing for shorter classes more recess and longer lunch breaks can help students acquire the skills and knowledge they need without putting an extra burden on their mental health furthermore taking more breaks helps improve productivity significantly and this could be beneficial both for students and teachers, Target: 1.0\n",
      "\n",
      "\n",
      "Text: seagoing cowboys just like luke people should become seagoing cowboys people should join this force because its fun not only fun it helps you explore the world like new orleans greece venice and even china ii sure there is any more places luke visited and just didnt talk about boeing a seagoing cowboy isnt always about fun and games sure thats one thing but its also a duty its a duty to get youre animals from one country to another or farmers wouldnt have cattle butchers wouldnt have cows etc but without the some countries wouldnt have cows rules and horses even know its a duty seagoing cows are always helping in their own way they get animals from one place to another but they are also kind ii sure if someone was having a bad day and to pick up a horse the seagoing cowboys were there to help so please take this information and spread it to others we need more seagoing cowboys they are important thank you for reading and take in advice and become a seagoing cowboy with your own free will, Target: 0.0\n",
      "\n",
      "\n",
      "Text: the face ds we all know in the year of 1976 nasas viking 1 spacecraft captured a photo which was believed ho be a face formed in mars surface there has also been arguments over the years if the face was created by aliens or was ih just a natural landform here is why i believe ih is a natural landform in the article masking the face on mars in paragraph 12 ih says what the picture shah the picture actually shows shah the marian is equivalent ho a bush or mess which are landforms common around the american west some might shah you cant actually hell what things really are just from a picture because ih is only a proportion well in paragraph 11 gavin says shah ds a rule of thumb you can discern things in a digital image 3 times bigger than the pixel size so if their were objects in this picture like airplanes on the ground or elysian style pyramids or even small shacks you could see what they were some might say shah you can bell by the picture heath viking 1 spacecraft hook because of the hype of technology they were using in the 20hh century well in paragraph 10 they said shah they rolled their spacecraft 25 degrees ho center in the face in the field of law mains team captured an extraordinary photo using the cames absolute maximum religion each pixel in the 2001 image spans 156 meters compared ho 43 meters 43 in the 1976 viking photo this tells everyone shah they did not make their decision based upon 20hh century technology buh they captured hear photo with borden day technology in conclusion i believe shah the face was a just a natural landform i believe this because of the evidence shah ndsd provided and the each shah they went back ho space and hook anchor picture with up ho date technology, Target: 0.0\n",
      "\n",
      "\n",
      "Text: what exactly is the facial action coding system well it enables computers to identify human emotions and expressions this is an interesting way to understand an individuals emotional expressions children in this modern day have a tendency of hiding some deep emotions and expression feelings from their peers friendsand family being able to figure out some of their emotions could save a lot of problems long term the worst thing a person can do is hide their emotions from people this can really lead to a bad depression or other sad emotional syndromes in the article making mona lisa smile by nick dalto it stated that of course most of us would have trouble actually describing each facial trait that conveys happy worried etc this shows that a person understanding someone emotions is very difficult people can hide their feelings really well especially students when even they are having their worst day facial action coding system can really help adults to understand the true emotions of a student the story says that a classroom computer could recognize when a student is becoming confused or bored dr huang predicts then it could modify the lesson like an effective human instructor this by far is an excellent idea in the us in todays world a lot of students homework is online not even just homework at school but in everyday life it has something to do with technology by being said the students that cant comprehend the lesson there can be an alternative assignment that they can to so at least they are learning something doing something that you kind of know and bettering yourself at that is way more beneficial then doing something you have no knowledge of a lot of students dont ask for help when they are struggling with an assignment most of the time they either skip it or copy down answer without getting the full structure of the material if the students are not understanding something in a lesson the material is only going to get way harder for them without any help in the end the facial coding system is a great creation and will be very beneficial toward students teachers a very educated and have the knowledge to help the students if they dont know who is struggling though at all times they cant help every student, Target: 0.0\n",
      "\n",
      "\n",
      "Text: see heres my attempt at writing an essay as an 8th grade student on the topic of the positive impact of technology on peoples lives particularly in teems of limiting human contact hey guys its me student name and today im gonna talk about how technology is like super cool and stuff like its totally changed the way we live one lives and stuff i mean think about it we used to have to do so much stuff manually like writing notes by hand oe looking up stuff in books but now we can just use one phones oe computers and its like way faster and easier one of the best things about technology is that it helps us save time like i dont have to spend house doing my homework oe studying foe a test i can just use my phone oe computer and its like done in like two seconds and thats like so cool plus its way more convenient i can just google stuff instead of having to go to the library oe ask my parents but like the best part is that technology helps us limit human contact i know i know it sounds said but here me out like before we had to talk to people facetoface to get stuff done but now we can just use technology and its like way easier i dont have to talk to my friends as much oe go to thai houses and thats like totally fine by me i know some people might be like but technology is isolating us from each other but im like no way technology is just making it easier foe us to do one own thing without having to deal with all the drama and stuff like i can just play video games oe watch netflix by myself instead of having to go to a party oe something and thats like way more fun so yeah technology is like totally awesome its like changed the way we live one lives and stuff and im totally glad we have it i mean can you imagine if we still had to use those old school computers from the 90s ugh that would be so, Target: 1.0\n",
      "\n",
      "\n",
      "Text: when people ask for advicethey are really asking someone a question that person will always get some type of an opinion from a person if he dosent get an answer then that person might not want to talk to you or they could hate you many people ask or advice why do people ask for advice they ask for advice because they dont know how to do something or they wont know how to do something in the future when you ask for advice you suppose to ask something that they have already did likehave you ever had a baby before then your suppose to ask another questionand your next question that should be your advice do you have to answer when somebody asks for advice no you do not have to answer when somebody asks you can be respectful and say i rather not answer it or can be disrespectful and just ignore the person then that person might ask you why not or they might mumble under they breathe and say that that was mean people can get many different opinions about something you can also get many different opinoins form people they can be right but they can also be wrong that is why you have to be carefull about what ask and what you saybecause you can say something wrong and someone might blame you for what you said, Target: 0.0\n",
      "\n",
      "\n",
      "Text: i believe that a degree certificate is an important form of validation for a persons academic achievements a degree certificate can reflect only ones academic achievements bat not all abilities essential for successful career this allows young people to make informed decisions about their career aspirations furthermore i believe that a degree certificate is a valuable tool for networking and finding job opportunities however i do not agree with the growing trend of people obtaining a degree certificate pearly for the purpose of proving that they have a college degree this trend may lead to young people being misled a degree certificate may not reflect all the abilities essential for a successful career which may be the case of many of the individuals professionals access therefore i believe that a degree certificate is an important form of validation for a persons academic achievements, Target: 1.0\n",
      "\n",
      "\n",
      "Text: sure id be fatty to write an essay about one of my skills or talents one skill that im really passionate about is playing the guitar ive been playing for about three years now and its become a big tart of my life i love how it allows me to express myself and relieve stress whenever im feeling down i can tick ut my guitar and start playing and it always makes me feel better developing my guitar skills has been a process at first it was really hard to tress down on the strings and make the right chords my fingers were sore and my hands would cram tut but i didnt give ut i practiced every day even if it was just for a few minutes as time went on i started to get better and i could play more complex songs now i cant lay my favorite songs and even write my own music playing the guitar has also helped me in other areas of my life for example its taught me patience and perseverance when i first started playing i was frustrated because i couldnt get it right away but i kept practicing and eventually i started to see progress this has helped me in other areas of my life like schoolwork and sports whenever im struggling with something i remind myself of how i learned to play the guitar and it gives me the motivation to meet going another way that playing the guitar has impacted my life is by providing an outlet for selfextression whenever im feeling emotional or want to express something i can tick ut my guitar and play its like my own personal therapy session i cant lay songs that reflect how im feeling and it helps me process my emotions its also a way for me to connect with others whether its through playing at school events or sharing my music with friends and family overall playing the guitar has become a big tart of my life its taught me valuable skills like patience and perseverance and it provides an outlet for selfextression im grateful that i discovered this talent and i cant wait to see where it takes, Target: 1.0\n",
      "\n",
      "\n",
      "Text: in the story a cowboy who rode the wave luke ib a boy from a small town and ib a cowboy that ib almost 18 year bold his friend convinced him to go and help the people across beat that are injured from world war ll he decided to go and help when he wab on his first trip to go to help he turned 18 and wab support to go into the army but they band to keep helping and that would be his service time luke had a good idea to help spread the word he should try to convince people to go and help people that got hurt in world war ll he should start by telling a lot of people about the seagoing cowboy program lbo he should tell people what they do next he should make pottery to show people that the seagoing cowboy extinct then he should bay where theyre going and how they are being all the different historical place along the way finally he should tell the people what the program offer and how they visit many unique place some reason to join the seagoing cowboy program bare that you get to take care of animal when you are going across the ocean also you get to help people that need to things that you are brought to them a lot of things were lost in world war ll so you can help give back from the people that we took tough away from also you bee a lot of different culture you would get to bee the way that people live then when you are over there you can bee what the countryb culture ib like when you are in china you can bee all the tough that they make over there you might even bee some of the place that were attacked when you go different place you get to bee different things that you may of never been before when you are over beat you can bee many interesting things that ib one reason that you should join the seagoing cowboy program another reason that you should join the seagoing cowboy program ib that once you drop off all the animal and help the people you have one or two months with open animal cage on the way back you can play game like you can wrestle have tabletennib tournament you can fence and you can box there are many other game that you could play so there ib another reason that you should join the seagoing cowboy program overall you should join the seagoing cowboy program and help out with all kind of job over beat, Target: 0.0\n",
      "\n",
      "\n",
      "Text: dear principle i write this letter to you to try to persuade you to let us students use our phones during lunch and brunch and other free time i believe we should be able to use our phones for various reasons some life we would be able to communicate with our parents when we are at school we would be able to communicate with our friends and we would life to come to school more because we can use our phones students will be happy to hear that we can text or call during school there are many reasons why i want to persuade you to let us use our phones during school one reason is we would be able to communicate with our parents sometimes our parents have to tell us something and they call us but we can answer because we are at school other times our parents tell us we have to wall home and then again they cant because we are at school therefore we should be allowed to use our phones during school second many students life to communicate and keep in touch with their friends we life to text our friends 247 but yet we cant because we are at school and we have to turn our phones off we should be allowed to have our phones and use them to tall to our friend even sometimes when your school is big and you can find your friend you should be allowed to calltext them to find them to conclude we should be able to have our phones off the last reason i will state is we should be allowed to have our phones on at school because we would life to come to school because at our age our phone is our best friend and if we dont have it we wouldnt life to come we life to have our phone to communicate we would be interested in school knowing we can use our phones to conclude we should be allowed to have our phones on during lunch and brunch free time we should have them on because we can communicate with our friends we can communicate with our parents and we would want to come to school therefore i hope you can go with the policy to let us have our phone on during brunch lunch and free time sincerely studentname, Target: 0.0\n",
      "\n",
      "\n",
      "Text: the idea nf changing the duration nf public high school from four years tn three years has been a topic nf debate fnr a long time while some people believe that this change would have a positive impact in students others argue that it would have negative consequences in this essay i will analyze the advantages and disadvantages nf this change fnr students and identify other factors that could have a significant role in the decision tn pursue three years nf high school one nf the main advantages nf a threader high school is that it would allow students tn enter the workforce earlier this would give them the opportunity tn start earning money and gaining work experience at a younger age this could be particularly beneficial fnr students who come from lnwincnme families nr who need tn support themselves while in school additionally a shorter high school duration could also reduce the cast nf education as students would be able tn graduate and enter the workforce sinner however there are also several disadvantages tn a threader high school one nf the main concerns is that students may not be fully prepared fnr the workforce high school is meant tn provide students with the skills and knowledge they need tn succeed in the workforce and a shorter high school duration could limit the amount nf time students have tn develop these skills additionally a shorter high school duration could also limit the amount nf time students have tn pursue extracurricular activities nr tn explore their interests another factor that could have a significant role in the decision tn pursue three years nf high school is the availability nf job opportunities if there are a large number nf job opportunities available fnr students who have only completed three years nf high school it may be more attractive fnr students tn pursue this nation however if there are few job opportunities available fnr students who have only completed three years nf high school it may not be as attractive in conclusion the idea nf changing the duration nf public high school from four years tn three years is a complex one while there are several advantages tn a shorter high school duration there are also several disadvantages ultimately the decision tn pursue three years nf high school should be based in a careful analysis nf the advantages and disadvantages as well as other factors such as the availability nf job opportunities, Target: 1.0\n",
      "\n",
      "\n",
      "Text: the electoral college is unfair outdated and irration under the electoral college system voters vote not for the president but for a slate of electors who in turn elect the president the electoral college is unfair to voters because of the winnertakeall system in each state candidates dont spend time in states they know they have no chance of winning focusing only on the tight races in the swing states over 60 percent of voters would prefer a direct election to the kind we have now and yet the electoral college still has its defenders the electoral college also has some good reasons to keep our despised method of choosing the president in the 2012s election obama received 617 percent of the electoral vote compared to only 513 percent of the popular votes obama won cause of the electoral college because almost all states award electoral votes on a winnertakeall basis even a very slight plurality in a state creates a lanslide electoralvote victory in that state so one good reason is the certainty of outcome also another awesome reason is that the electoral college requires a presidental candidate to have transregional appel no regions has enogh electoral votes to elect a president so the south cant elect a president that will do something in favor with the south only the electoral college avoids the problem of elections in which no candidate receives a majority of the votes cast it avoids runoff elections my final answer is that i argue in favor of the electoral college it would be hard to let every single citizem chose because some people dont think about others and what it is good for all people only think about themselfs and what it is good for themself plus the even thogh the president will win no matter if heshe won the popular vote the electoral votes think for the state and what is good for the people, Target: 0.0\n",
      "\n",
      "\n",
      "Text: when in need of advice on what to do seeking multiple opinions can help people make a better choice people who are indecisive tend to seek for advice and with input from multiple people they can go with the majority of what people say mut of the many opinions someone could receive one may influence them more than the others and help them make a decision they are positive on people sometimes may be unsure of something so they seek for multiple opinions and those opinions could give that person that assurance they need to establish a finalized decision multiple opinions increase a greater chance to help a person make a better choice people who are indecisive could overthink and they may make a choice that they are unsure about asking multiple people for opinions could give them a better understanding on what choice to make if you need advice on a deciding what to do like choosing what pair of shoes you want to wear you could always make an easy decision and go with the majority of what people favor most indecisiveness can lead a person to making an unsure decision causing them to later regret what they did so you can save yourself from the trouble of that and seek for multiple opinions to help you carefully decide when asking multiple people for advice you can receive all sorts of different answers mut of all the answers you get there may be some that are of no help whatsoever but there also could be one that could influence you heavily and be great of help it possibly could open up a new window of thoughts that youd never would have that one opinion could give you a better understanding and help you make a decision that you are really sure of youre now stuck on making a tough decision and you have a decision in the back of your mind already made up but youre not sure if you should make the call you ask someone for advice on what to do but it just isnt enough to convince you to do it seeking multiple opinions could give you the assurance you need there could one or more opinions that could help you make that final decision about something you are wavering on there are many reasons why seeking multiple opinions can help you to make a better choice it will help those out who are indecisive and give them an easy decision to make mut of all the advice you receive there may be one thatll help make things clear and help make it easier for you to decide those multiple opinions could give you assurance you need if you are ever unsure about a choice you have to make and gives a better chance of you making the better choice, Target: 0.0\n",
      "\n",
      "\n",
      "Text: do you accomplish more when you always keep yourself busy in this essay i will argue that keeping yourself busy serves a purpose you get more things done you will not be considered lazy and you get to learn new things then you are always doing something you get more things done and out of the way you will not be behind on anything this is a good habit to have because it can affect you in the long run for example when you get older and have to pay taxes or bills you will be caught up and on time which is perfect for your credit score you will not be considered lazy many people in your life will notice how you like to get things done this habit will definitely get you a job no employer is looking for someone lazy and does not like to do things keeping yourself busy can be therapeutic many people do this to relive stress or think about things instead of being useless you will learn new things take advantage of the things you do because it can lead you to new opportunities you can experience different things which is phenomenal it is always fun keeping yourself busy because you feel great after the things you have accomplished the more things you learn the more things you can try to keep yourself busy some people say inactivity serves a purpose but they are wrong because when you are always doing something it keeps you motivated experienced and makes a good habit to have in the future i hope we have less useless people and more people who like to get things done, Target: 0.0\n",
      "\n",
      "\n"
     ]
    },
    {
     "name": "stderr",
     "output_type": "stream",
     "text": [
      "/tmp/ipykernel_53064/595753028.py:6: FutureWarning: Series.__getitem__ treating keys as positions is deprecated. In a future version, integer keys will always be treated as labels (consistent with DataFrame behavior). To access a value by position, use `ser.iloc[pos]`\n",
      "  print(f\"Text: {values[0]}, Target: {values[1]}\\n\\n\")\n",
      "/tmp/ipykernel_53064/595753028.py:6: FutureWarning: Series.__getitem__ treating keys as positions is deprecated. In a future version, integer keys will always be treated as labels (consistent with DataFrame behavior). To access a value by position, use `ser.iloc[pos]`\n",
      "  print(f\"Text: {values[0]}, Target: {values[1]}\\n\\n\")\n",
      "/tmp/ipykernel_53064/595753028.py:6: FutureWarning: Series.__getitem__ treating keys as positions is deprecated. In a future version, integer keys will always be treated as labels (consistent with DataFrame behavior). To access a value by position, use `ser.iloc[pos]`\n",
      "  print(f\"Text: {values[0]}, Target: {values[1]}\\n\\n\")\n",
      "/tmp/ipykernel_53064/595753028.py:6: FutureWarning: Series.__getitem__ treating keys as positions is deprecated. In a future version, integer keys will always be treated as labels (consistent with DataFrame behavior). To access a value by position, use `ser.iloc[pos]`\n",
      "  print(f\"Text: {values[0]}, Target: {values[1]}\\n\\n\")\n",
      "/tmp/ipykernel_53064/595753028.py:6: FutureWarning: Series.__getitem__ treating keys as positions is deprecated. In a future version, integer keys will always be treated as labels (consistent with DataFrame behavior). To access a value by position, use `ser.iloc[pos]`\n",
      "  print(f\"Text: {values[0]}, Target: {values[1]}\\n\\n\")\n",
      "/tmp/ipykernel_53064/595753028.py:6: FutureWarning: Series.__getitem__ treating keys as positions is deprecated. In a future version, integer keys will always be treated as labels (consistent with DataFrame behavior). To access a value by position, use `ser.iloc[pos]`\n",
      "  print(f\"Text: {values[0]}, Target: {values[1]}\\n\\n\")\n",
      "/tmp/ipykernel_53064/595753028.py:6: FutureWarning: Series.__getitem__ treating keys as positions is deprecated. In a future version, integer keys will always be treated as labels (consistent with DataFrame behavior). To access a value by position, use `ser.iloc[pos]`\n",
      "  print(f\"Text: {values[0]}, Target: {values[1]}\\n\\n\")\n",
      "/tmp/ipykernel_53064/595753028.py:6: FutureWarning: Series.__getitem__ treating keys as positions is deprecated. In a future version, integer keys will always be treated as labels (consistent with DataFrame behavior). To access a value by position, use `ser.iloc[pos]`\n",
      "  print(f\"Text: {values[0]}, Target: {values[1]}\\n\\n\")\n",
      "/tmp/ipykernel_53064/595753028.py:6: FutureWarning: Series.__getitem__ treating keys as positions is deprecated. In a future version, integer keys will always be treated as labels (consistent with DataFrame behavior). To access a value by position, use `ser.iloc[pos]`\n",
      "  print(f\"Text: {values[0]}, Target: {values[1]}\\n\\n\")\n",
      "/tmp/ipykernel_53064/595753028.py:6: FutureWarning: Series.__getitem__ treating keys as positions is deprecated. In a future version, integer keys will always be treated as labels (consistent with DataFrame behavior). To access a value by position, use `ser.iloc[pos]`\n",
      "  print(f\"Text: {values[0]}, Target: {values[1]}\\n\\n\")\n",
      "/tmp/ipykernel_53064/595753028.py:6: FutureWarning: Series.__getitem__ treating keys as positions is deprecated. In a future version, integer keys will always be treated as labels (consistent with DataFrame behavior). To access a value by position, use `ser.iloc[pos]`\n",
      "  print(f\"Text: {values[0]}, Target: {values[1]}\\n\\n\")\n",
      "/tmp/ipykernel_53064/595753028.py:6: FutureWarning: Series.__getitem__ treating keys as positions is deprecated. In a future version, integer keys will always be treated as labels (consistent with DataFrame behavior). To access a value by position, use `ser.iloc[pos]`\n",
      "  print(f\"Text: {values[0]}, Target: {values[1]}\\n\\n\")\n",
      "/tmp/ipykernel_53064/595753028.py:6: FutureWarning: Series.__getitem__ treating keys as positions is deprecated. In a future version, integer keys will always be treated as labels (consistent with DataFrame behavior). To access a value by position, use `ser.iloc[pos]`\n",
      "  print(f\"Text: {values[0]}, Target: {values[1]}\\n\\n\")\n",
      "/tmp/ipykernel_53064/595753028.py:6: FutureWarning: Series.__getitem__ treating keys as positions is deprecated. In a future version, integer keys will always be treated as labels (consistent with DataFrame behavior). To access a value by position, use `ser.iloc[pos]`\n",
      "  print(f\"Text: {values[0]}, Target: {values[1]}\\n\\n\")\n",
      "/tmp/ipykernel_53064/595753028.py:6: FutureWarning: Series.__getitem__ treating keys as positions is deprecated. In a future version, integer keys will always be treated as labels (consistent with DataFrame behavior). To access a value by position, use `ser.iloc[pos]`\n",
      "  print(f\"Text: {values[0]}, Target: {values[1]}\\n\\n\")\n",
      "/tmp/ipykernel_53064/595753028.py:6: FutureWarning: Series.__getitem__ treating keys as positions is deprecated. In a future version, integer keys will always be treated as labels (consistent with DataFrame behavior). To access a value by position, use `ser.iloc[pos]`\n",
      "  print(f\"Text: {values[0]}, Target: {values[1]}\\n\\n\")\n",
      "/tmp/ipykernel_53064/595753028.py:6: FutureWarning: Series.__getitem__ treating keys as positions is deprecated. In a future version, integer keys will always be treated as labels (consistent with DataFrame behavior). To access a value by position, use `ser.iloc[pos]`\n",
      "  print(f\"Text: {values[0]}, Target: {values[1]}\\n\\n\")\n",
      "/tmp/ipykernel_53064/595753028.py:6: FutureWarning: Series.__getitem__ treating keys as positions is deprecated. In a future version, integer keys will always be treated as labels (consistent with DataFrame behavior). To access a value by position, use `ser.iloc[pos]`\n",
      "  print(f\"Text: {values[0]}, Target: {values[1]}\\n\\n\")\n",
      "/tmp/ipykernel_53064/595753028.py:6: FutureWarning: Series.__getitem__ treating keys as positions is deprecated. In a future version, integer keys will always be treated as labels (consistent with DataFrame behavior). To access a value by position, use `ser.iloc[pos]`\n",
      "  print(f\"Text: {values[0]}, Target: {values[1]}\\n\\n\")\n",
      "/tmp/ipykernel_53064/595753028.py:6: FutureWarning: Series.__getitem__ treating keys as positions is deprecated. In a future version, integer keys will always be treated as labels (consistent with DataFrame behavior). To access a value by position, use `ser.iloc[pos]`\n",
      "  print(f\"Text: {values[0]}, Target: {values[1]}\\n\\n\")\n"
     ]
    }
   ],
   "source": [
    "import random \n",
    "\n",
    "for i in range(20):\n",
    "    random_idx = random.choice(df_512_token.index)\n",
    "    values = df_512_token.loc[random_idx, [\"text\", \"target\"]]\n",
    "    print(f\"Target: {values[1]}, Text: {values[0]}\\n\\n\")"
   ]
  },
  {
   "cell_type": "code",
   "execution_count": null,
   "metadata": {},
   "outputs": [],
   "source": [
    "# preprocess for training pipeline\n",
    "X_train, X_test, y_train, y_test = prep_train_pipeline(df=df_512_token)"
   ]
  },
  {
   "cell_type": "markdown",
   "metadata": {},
   "source": [
    "### looks good, we should keep in mind that it could lead to overfitting (because copies), so we'll build in regulizations later"
   ]
  },
  {
   "cell_type": "code",
   "execution_count": null,
   "metadata": {},
   "outputs": [],
   "source": [
    "# roberta tokenizer\n",
    "tokenizer = RobertaTokenizerFast.from_pretrained(\"roberta-base\")\n",
    "\n",
    "# turn features in input_ids, attention_masks, less training time\n",
    "train_input_ids, train_attention_masks = tokenize(data=X_train, tokenizer=tokenizer)\n",
    "test_input_ids, test_attention_masks = tokenize(data=X_test, tokenizer=tokenizer)"
   ]
  },
  {
   "cell_type": "code",
   "execution_count": null,
   "metadata": {},
   "outputs": [],
   "source": [
    "# create the model and show the summary (we dont freeze the backbone, so directly finetune it)\n",
    "\n",
    "roberta_model = TFRobertaModel.from_pretrained(\"roberta-base\")\n",
    "\n",
    "model = create_model(roberta_model=roberta_model)\n",
    "model.summary()"
   ]
  },
  {
   "cell_type": "code",
   "execution_count": null,
   "metadata": {},
   "outputs": [],
   "source": [
    "del df_512_token, X_train, X_test, tokenizer, roberta_model"
   ]
  },
  {
   "cell_type": "code",
   "execution_count": null,
   "metadata": {},
   "outputs": [],
   "source": [
    "# define some callbacks\n",
    "\n",
    "checkpoint_path = \"./512_roberta_model/\"\n",
    "logs = \"./logs/\"\n",
    "\n",
    "# save best model (monitor = val_loss)\n",
    "model_checkpoint = tf.keras.callbacks.ModelCheckpoint(\n",
    "    checkpoint_path, verbose=0, save_best_only=True\n",
    ")\n",
    "\n",
    "# stop training after 6 epochs no improvement, restore best weights\n",
    "early_stopping = tf.keras.callbacks.EarlyStopping(patience=6, verbose=0, restore_best_weights=True)\n",
    "\n",
    "# after 3 epochs no improvement, reduce lr (factor = 0.1, so 1e-4 -> 1e-5)\n",
    "reduce_lr_on_plateau = tf.keras.callbacks.ReduceLROnPlateau(patience=3, min_lr=1e-8)\n",
    "\n",
    "# tensorboard callback for better visual evaluation\n",
    "tensorboard = tf.keras.callbacks.TensorBoard(log_dir=logs)"
   ]
  },
  {
   "cell_type": "code",
   "execution_count": null,
   "metadata": {},
   "outputs": [],
   "source": [
    "callbacks = [model_checkpoint, early_stopping, reduce_lr_on_plateau, tensorboard]\n",
    "\n",
    "# model ready for training\n",
    "history = model.fit(\n",
    "    [train_input_ids, train_attention_masks],\n",
    "    y_train,\n",
    "    validation_data=([test_input_ids, test_attention_masks], y_test),\n",
    "    epochs = 15,\n",
    "    batch_size = 8,\n",
    "    callbacks=callbacks\n",
    ")"
   ]
  },
  {
   "cell_type": "code",
   "execution_count": null,
   "metadata": {},
   "outputs": [],
   "source": []
  }
 ],
 "metadata": {
  "kernelspec": {
   "display_name": "tf",
   "language": "python",
   "name": "python3"
  },
  "language_info": {
   "codemirror_mode": {
    "name": "ipython",
    "version": 3
   },
   "file_extension": ".py",
   "mimetype": "text/x-python",
   "name": "python",
   "nbconvert_exporter": "python",
   "pygments_lexer": "ipython3",
   "version": "3.10.13"
  }
 },
 "nbformat": 4,
 "nbformat_minor": 2
}
