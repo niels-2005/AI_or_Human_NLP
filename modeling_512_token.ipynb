{
 "cells": [
  {
   "cell_type": "markdown",
   "metadata": {},
   "source": [
    "### Todo: Train and Evaluate Model"
   ]
  },
  {
   "cell_type": "code",
   "execution_count": null,
   "metadata": {},
   "outputs": [],
   "source": [
    "import pandas as pd\n",
    "from prep_train_pipeline import prep_train_pipeline\n",
    "from helper_roberta import tokenize, create_model\n",
    "from transformers import RobertaTokenizerFast, TFRobertaModel\n",
    "import tensorflow as tf"
   ]
  },
  {
   "cell_type": "code",
   "execution_count": null,
   "metadata": {},
   "outputs": [],
   "source": [
    "tf.keras.mixed_precision.set_global_policy(\"mixed_float16\")"
   ]
  },
  {
   "cell_type": "code",
   "execution_count": null,
   "metadata": {},
   "outputs": [],
   "source": [
    "# check gpu\n",
    "tf.config.list_physical_devices(\"GPU\")"
   ]
  },
  {
   "cell_type": "code",
   "execution_count": null,
   "metadata": {},
   "outputs": [],
   "source": [
    "# read csv\n",
    "df_512_token = pd.read_csv(\"text_512_tokens.csv\")\n",
    "df_512_token = df_512_token.drop(columns=[\"Unnamed: 0\"])\n",
    "df_512_token.head()"
   ]
  },
  {
   "cell_type": "code",
   "execution_count": null,
   "metadata": {},
   "outputs": [],
   "source": [
    "# preprocess for training pipeline\n",
    "X_train, X_test, y_train, y_test = prep_train_pipeline(df=df_512_token)"
   ]
  },
  {
   "cell_type": "markdown",
   "metadata": {},
   "source": [
    "### looks good, we should keep in mind that it could lead to overfitting (because copies), so we'll build in regulizations later"
   ]
  },
  {
   "cell_type": "code",
   "execution_count": null,
   "metadata": {},
   "outputs": [],
   "source": [
    "# roberta tokenizer\n",
    "tokenizer = RobertaTokenizerFast.from_pretrained(\"roberta-base\")\n",
    "\n",
    "# turn features in input_ids, attention_masks, less training time\n",
    "train_input_ids, train_attention_masks = tokenize(data=X_train, tokenizer=tokenizer)\n",
    "test_input_ids, test_attention_masks = tokenize(data=X_test, tokenizer=tokenizer)"
   ]
  },
  {
   "cell_type": "code",
   "execution_count": null,
   "metadata": {},
   "outputs": [],
   "source": [
    "# create the model and show the summary (we dont freeze the backbone, so directly finetune it)\n",
    "\n",
    "roberta_model = TFRobertaModel.from_pretrained(\"roberta-base\")\n",
    "\n",
    "model = create_model(roberta_model=roberta_model)\n",
    "model.summary()"
   ]
  },
  {
   "cell_type": "code",
   "execution_count": null,
   "metadata": {},
   "outputs": [],
   "source": [
    "del df_512_token, X_train, X_test, tokenizer, roberta_model"
   ]
  },
  {
   "cell_type": "code",
   "execution_count": null,
   "metadata": {},
   "outputs": [],
   "source": [
    "# define some callbacks\n",
    "\n",
    "checkpoint_path = \"./512_roberta_model/\"\n",
    "logs = \"./logs/\"\n",
    "\n",
    "# save best model (monitor = val_loss)\n",
    "model_checkpoint = tf.keras.callbacks.ModelCheckpoint(\n",
    "    checkpoint_path, verbose=0, save_best_only=True\n",
    ")\n",
    "\n",
    "# stop training after 6 epochs no improvement, restore best weights\n",
    "early_stopping = tf.keras.callbacks.EarlyStopping(\n",
    "    patience=6, verbose=0, restore_best_weights=True\n",
    ")\n",
    "\n",
    "# after 3 epochs no improvement, reduce lr (factor = 0.1, so 1e-4 -> 1e-5)\n",
    "reduce_lr_on_plateau = tf.keras.callbacks.ReduceLROnPlateau(patience=3, min_lr=1e-8)\n",
    "\n",
    "# tensorboard callback for better visual evaluation\n",
    "tensorboard = tf.keras.callbacks.TensorBoard(log_dir=logs)"
   ]
  },
  {
   "cell_type": "code",
   "execution_count": null,
   "metadata": {},
   "outputs": [],
   "source": [
    "callbacks = [model_checkpoint, early_stopping, reduce_lr_on_plateau, tensorboard]\n",
    "\n",
    "# model ready for training\n",
    "history = model.fit(\n",
    "    [train_input_ids, train_attention_masks],\n",
    "    y_train,\n",
    "    validation_data=([test_input_ids, test_attention_masks], y_test),\n",
    "    epochs=15,\n",
    "    batch_size=8,\n",
    "    callbacks=callbacks,\n",
    ")"
   ]
  }
 ],
 "metadata": {
  "kernelspec": {
   "display_name": "tf",
   "language": "python",
   "name": "python3"
  },
  "language_info": {
   "codemirror_mode": {
    "name": "ipython",
    "version": 3
   },
   "file_extension": ".py",
   "mimetype": "text/x-python",
   "name": "python",
   "nbconvert_exporter": "python",
   "pygments_lexer": "ipython3",
   "version": "3.10.13"
  }
 },
 "nbformat": 4,
 "nbformat_minor": 2
}
